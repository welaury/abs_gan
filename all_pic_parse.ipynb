{
 "cells": [
  {
   "cell_type": "code",
   "execution_count": 87,
   "metadata": {
    "collapsed": true
   },
   "outputs": [],
   "source": [
    "from selenium import webdriver\n",
    "from time import sleep\n",
    "from bs4 import BeautifulSoup\n",
    "import urllib"
   ]
  },
  {
   "cell_type": "code",
   "execution_count": 2,
   "metadata": {},
   "outputs": [],
   "source": [
    "url = 'https://www.wikiart.org/ru/artists-by-art-movement/abstraktsionizm#!#resultType:masonry'\n",
    "driver = webdriver.Chrome()\n",
    "driver.get(url)\n",
    "\n",
    "farther = True\n",
    "while farther:\n",
    "    try:\n",
    "        driver.execute_script(\"window.scrollTo(0, document.body.scrollHeight);\")\n",
    "        sleep(10)\n",
    "        driver.find_element_by_class_name('masonry-load-more-button-wrapper').click()\n",
    "    except:\n",
    "        sleep(10)\n",
    "        farther = False\n",
    "\n",
    "content_page = driver.page_source\n",
    "driver.close()"
   ]
  },
  {
   "cell_type": "code",
   "execution_count": 4,
   "metadata": {},
   "outputs": [],
   "source": [
    "with open('raw_artists.html', 'w') as f:\n",
    "    f.write(content_page)"
   ]
  },
  {
   "cell_type": "code",
   "execution_count": 5,
   "metadata": {},
   "outputs": [
    {
     "data": {
      "text/plain": [
       "True"
      ]
     },
     "execution_count": 5,
     "metadata": {},
     "output_type": "execute_result"
    }
   ],
   "source": [
    "'Nemanja Vuckovic' in content_page"
   ]
  },
  {
   "cell_type": "code",
   "execution_count": 12,
   "metadata": {},
   "outputs": [],
   "source": [
    "soup = BeautifulSoup(content_page, \"html5lib\")"
   ]
  },
  {
   "cell_type": "code",
   "execution_count": 13,
   "metadata": {},
   "outputs": [],
   "source": [
    "all_names_blocks = soup.findAll(\"div\", {\"class\": \"artist-name\"})"
   ]
  },
  {
   "cell_type": "code",
   "execution_count": 40,
   "metadata": {},
   "outputs": [],
   "source": [
    "artists_hrefs = []\n",
    "\n",
    "for name_block in all_names_blocks:\n",
    "    artists_hrefs.append(name_block.find('a')['href'])"
   ]
  },
  {
   "cell_type": "code",
   "execution_count": 54,
   "metadata": {},
   "outputs": [],
   "source": [
    "test_url = 'https://www.wikiart.org' + artists_hrefs[0] + '/all-works/text-list'\n"
   ]
  },
  {
   "cell_type": "code",
   "execution_count": 55,
   "metadata": {},
   "outputs": [],
   "source": [
    "driver = webdriver.Chrome()\n",
    "driver.get(test_url)\n",
    "driver.execute_script(\"window.scrollTo(0, document.body.scrollHeight);\")\n",
    "sleep(4)\n",
    "\n",
    "content_page = driver.page_source\n",
    "driver.close()"
   ]
  },
  {
   "cell_type": "code",
   "execution_count": 56,
   "metadata": {},
   "outputs": [],
   "source": [
    "soup = BeautifulSoup(content_page, \"html5lib\")"
   ]
  },
  {
   "cell_type": "code",
   "execution_count": 59,
   "metadata": {},
   "outputs": [],
   "source": [
    "pic_links_blocks = soup.find_all('li', {\"class\": \"painting-list-text-row\"})"
   ]
  },
  {
   "cell_type": "code",
   "execution_count": 62,
   "metadata": {},
   "outputs": [
    {
     "data": {
      "text/plain": [
       "'/ru/vasiliy-kandinskiy/poster-for-the-abrikosov-company-1898'"
      ]
     },
     "execution_count": 62,
     "metadata": {},
     "output_type": "execute_result"
    }
   ],
   "source": [
    "pic_links_blocks[0].find('a')['href']"
   ]
  },
  {
   "cell_type": "code",
   "execution_count": 64,
   "metadata": {},
   "outputs": [],
   "source": [
    "pic_links = []\n",
    "for block in pic_links_blocks:\n",
    "    pic_links.append(block.find('a')['href'])"
   ]
  },
  {
   "cell_type": "code",
   "execution_count": 65,
   "metadata": {},
   "outputs": [
    {
     "data": {
      "text/plain": [
       "['/ru/vasiliy-kandinskiy/poster-for-the-abrikosov-company-1898',\n '/ru/vasiliy-kandinskiy/comet-1900',\n '/ru/vasiliy-kandinskiy/kochel-waterfall-i',\n '/ru/vasiliy-kandinskiy/not_detected_189369',\n '/ru/vasiliy-kandinskiy/okhtyrka-autumn-1901',\n '/ru/vasiliy-kandinskiy/poster-for-the-abrikosov-company-1901',\n '/ru/vasiliy-kandinskiy/staryy-gorod-ii-1902',\n '/ru/vasiliy-kandinskiy/kochel-gabriele-munter-1902',\n '/ru/vasiliy-kandinskiy/walled-city-in-autumn-landscape-1902',\n '/ru/vasiliy-kandinskiy/siniy-vsadnik-1903',\n '/ru/vasiliy-kandinskiy/proshchanie-1903',\n '/ru/vasiliy-kandinskiy/opushka-lesa-1903',\n '/ru/vasiliy-kandinskiy/gabriel-myunter-risuet-1903',\n '/ru/vasiliy-kandinskiy/zolotoy-parus-1903',\n '/ru/vasiliy-kandinskiy/pevitsa-1903',\n '/ru/vasiliy-kandinskiy/rising-of-the-moon-1903',\n '/ru/vasiliy-kandinskiy/drevnyaya-rus-1904',\n '/ru/vasiliy-kandinskiy/plyazhnye-korziny-v-gollandii-1904',\n '/ru/vasiliy-kandinskiy/v-lesu-1904',\n '/ru/vasiliy-kandinskiy/arabskiy-gorod-1905',\n '/ru/vasiliy-kandinskiy/gabriel-myunter-1905',\n '/ru/vasiliy-kandinskiy/lodki-rapallo-1905',\n '/ru/vasiliy-kandinskiy/rapallo-seryy-den-1905',\n '/ru/vasiliy-kandinskiy/russkaya-krasavitsa-v-peyzazhe-1905',\n '/ru/vasiliy-kandinskiy/para-edushchaya-verkhom-na-kone-1906',\n '/ru/vasiliy-kandinskiy/park-v-sen-klu-1906',\n '/ru/vasiliy-kandinskiy/park-v-sen-klu-so-vsadnikom-1906',\n '/ru/vasiliy-kandinskiy/solntse-rotterdama-1906',\n '/ru/vasiliy-kandinskiy/santa-margarita-1906',\n '/ru/vasiliy-kandinskiy/volzhskaya-pesn-1906',\n '/ru/vasiliy-kandinskiy/pestraya-zhizn-1907',\n '/ru/vasiliy-kandinskiy/lunnaya-noch-1907',\n '/ru/vasiliy-kandinskiy/noch-1907',\n '/ru/vasiliy-kandinskiy/dve-ptitsy-1907',\n '/ru/vasiliy-kandinskiy/osen-v-murnau-1908',\n '/ru/vasiliy-kandinskiy/osen-v-bavarii-1908',\n '/ru/vasiliy-kandinskiy/sinyaya-gora-1908',\n '/ru/vasiliy-kandinskiy/myunkhenskiy-shvabing-s-tserkovyu-sv-ursuly-1908',\n '/ru/vasiliy-kandinskiy/slon-1908',\n '/ru/vasiliy-kandinskiy/belyy-zvuk-1908',\n '/ru/vasiliy-kandinskiy/the-ludwigskirche-in-munich-1908',\n '/ru/vasiliy-kandinskiy/okhtyrka-red-church-1908',\n '/ru/vasiliy-kandinskiy/encounter-1908',\n '/ru/vasiliy-kandinskiy/murnau-am-staffelsee-1908',\n '/ru/vasiliy-kandinskiy/gora-1909',\n '/ru/vasiliy-kandinskiy/araby-i-kladbishche-1909',\n '/ru/vasiliy-kandinskiy/spalnya-na-antmillershtrasse-1909',\n '/ru/vasiliy-kandinskiy/kladbishche-i-dom-svyashchennika-v-kekhele-1909',\n '/ru/vasiliy-kandinskiy/krinoliny-1909',\n '/ru/vasiliy-kandinskiy/gruppa-v-krinolinakh-1909',\n '/ru/vasiliy-kandinskiy/gryungasse-v-murnau-1909',\n '/ru/vasiliy-kandinskiy/loshadi-1909',\n '/ru/vasiliy-kandinskiy/doma-v-murnau-1909',\n '/ru/vasiliy-kandinskiy/improvizatsiya-3-1909',\n '/ru/vasiliy-kandinskiy/improvizatsiya-6-afrikanskaya-1909',\n '/ru/vasiliy-kandinskiy/interer-moya-stolovaya-1909',\n '/ru/vasiliy-kandinskiy/vid-murnau-s-zheleznoy-dorogoy-i-zamkom-1909',\n '/ru/vasiliy-kandinskiy/murnau-s-radugoy-1909',\n '/ru/vasiliy-kandinskiy/kartina-s-luchnikom-1909',\n '/ru/vasiliy-kandinskiy/krasnaya-stena-sudby-1909',\n '/ru/vasiliy-kandinskiy/etyud-dlya-oseni-1909',\n '/ru/vasiliy-kandinskiy/belyy-peyzazh-1909',\n '/ru/vasiliy-kandinskiy/peyzazh-s-parovozom-1909',\n '/ru/vasiliy-kandinskiy/improvisation-4-1909',\n '/ru/vasiliy-kandinskiy/study-for-improvisation-8-1909',\n '/ru/vasiliy-kandinskiy/murnau-garden-1909',\n '/ru/vasiliy-kandinskiy/vodnaya-progulka-1910',\n '/ru/vasiliy-kandinskiy/pervaya-abstraktnaya-akvarel-1910',\n '/ru/vasiliy-kandinskiy/steklyannaya-kartina-s-solntsem-malenkie-radosti-1910',\n '/ru/vasiliy-kandinskiy/improvizatsiya-11-1910',\n '/ru/vasiliy-kandinskiy/improvizatsiya-12-vsadnik-1910',\n '/ru/vasiliy-kandinskiy/improvizatsiya-7-1910',\n '/ru/vasiliy-kandinskiy/improvizatsiya-14-1910',\n '/ru/vasiliy-kandinskiy/peyzazh-s-fabrichnoy-truboy-1910',\n '/ru/vasiliy-kandinskiy/gornyy-peyzazh-s-tserkovyu-1910',\n '/ru/vasiliy-kandinskiy/sad-murnau-1910',\n '/ru/vasiliy-kandinskiy/murnau-s-tserkovyu-1910',\n '/ru/vasiliy-kandinskiy/not_detected_189365',\n '/ru/vasiliy-kandinskiy/etyud-dlya-komplzitsii-ii-1910',\n '/ru/vasiliy-kandinskiy/korova-1910',\n '/ru/vasiliy-kandinskiy/dva-vsadnika-i-lezhashchaya-figura-1910',\n '/ru/vasiliy-kandinskiy/bez-nazvaniya-pervaya-abstraktnaya-akvarel-1910',\n '/ru/vasiliy-kandinskiy/kochel-graveyard-1910',\n '/ru/vasiliy-kandinskiy/improvisation-9-1910',\n '/ru/vasiliy-kandinskiy/improvisation-10-1910',\n '/ru/vasiliy-kandinskiy/picture-with-a-circle-1911',\n '/ru/vasiliy-kandinskiy/den-vsekh-svyatykh-i-1911',\n '/ru/vasiliy-kandinskiy/den-vsekh-svyatykh-ii-1911',\n '/ru/vasiliy-kandinskiy/angel-strashnogo-suda-1911',\n '/ru/vasiliy-kandinskiy/kompozitsiya-iv-1911',\n '/ru/vasiliy-kandinskiy/kompozitsiya-v-1911',\n '/ru/vasiliy-kandinskiy/impressiya-i-kontsert-1911',\n '/ru/vasiliy-kandinskiy/improvizatsiya-19-1911',\n '/ru/vasiliy-kandinskiy/liricheskoe-1911',\n '/ru/vasiliy-kandinskiy/romanticheskiy-peyzazh-1911',\n '/ru/vasiliy-kandinskiy/an-angel-of-the-last-judgement-1911',\n '/ru/vasiliy-kandinskiy/chernaya-tochka-1912',\n '/ru/vasiliy-kandinskiy/improvizatsiya-26-greblya-1912',\n '/ru/vasiliy-kandinskiy/dama-v-moskve-1912',\n '/ru/vasiliy-kandinskiy/kartina-s-chernoy-arkoy-1912',\n '/ru/vasiliy-kandinskiy/strashnyy-sud-1912',\n '/ru/vasiliy-kandinskiy/improvisation-28-second-version-1912',\n '/ru/vasiliy-kandinskiy/chernye-mazki-i-1913',\n '/ru/vasiliy-kandinskiy/kompozitsiya-1913',\n '/ru/vasiliy-kandinskiy/kompozitsiya-vii-1913',\n '/ru/vasiliy-kandinskiy/improvizatsiya-potoka-1913',\n '/ru/vasiliy-kandinskiy/improvizatsiya-mechtatelnaya-1913',\n '/ru/vasiliy-kandinskiy/improvizatsiya-30-pushki-1913',\n '/ru/vasiliy-kandinskiy/improvizatsiya-31-morskoy-boy-1913',\n '/ru/vasiliy-kandinskiy/peyzazh-s-krasnoy-tochkoy-1913',\n '/ru/vasiliy-kandinskiy/not_detected_189363',\n '/ru/vasiliy-kandinskiy/kartina-s-zelenym-tsentrom-1913',\n '/ru/vasiliy-kandinskiy/kartina-s-belym-kraem-1913',\n '/ru/vasiliy-kandinskiy/malenkie-radosti-1913',\n '/ru/vasiliy-kandinskiy/etyud-dlya-kompozitsii-vii-1913',\n '/ru/vasiliy-kandinskiy/color-study-squares-with-concentric-circles-1913',\n '/ru/vasiliy-kandinskiy/landscape-with-rain-1913',\n '/ru/vasiliy-kandinskiy/fuga-1914',\n '/ru/vasiliy-kandinskiy/improvizatsiya-ushchele-1914',\n '/ru/vasiliy-kandinskiy/kartina-s-krasnoy-tochkoy-1914',\n '/ru/vasiliy-kandinskiy/svyatoy-georgiy-i-zmey-1915',\n '/ru/vasiliy-kandinskiy/bez-nazvaniya-1915',\n '/ru/vasiliy-kandinskiy/risunok-dlya-gravyury-ii-1916',\n '/ru/vasiliy-kandinskiy/moskva-i-1916',\n '/ru/vasiliy-kandinskiy/moskva-smolenskiy-bulvar-etyud-1916',\n '/ru/vasiliy-kandinskiy/moskva-zubovskaya-ploshchad-etyud-1916',\n '/ru/vasiliy-kandinskiy/kartina-na-svetlom-grunte-1916',\n '/ru/vasiliy-kandinskiy/k-neznakomomu-golosu-1916',\n '/ru/vasiliy-kandinskiy/troubled-1917',\n '/ru/vasiliy-kandinskiy/seryy-oval-1917',\n '/ru/vasiliy-kandinskiy/improvizatsiya-29-1917',\n '/ru/vasiliy-kandinskiy/v-serom-1919',\n '/ru/vasiliy-kandinskiy/belyy-oval-1919',\n '/ru/vasiliy-kandinskiy/not_detected_189366',\n '/ru/vasiliy-kandinskiy/krasnyy-oval-1920',\n '/ru/vasiliy-kandinskiy/belyy-mazok-1920',\n '/ru/vasiliy-kandinskiy/not_detected_189361',\n '/ru/vasiliy-kandinskiy/krasnaya-tochka-ii-1921',\n '/ru/vasiliy-kandinskiy/etyud-dlya-krugov-na-chernom-1921',\n '/ru/vasiliy-kandinskiy/chernaya-ramka-1922',\n '/ru/vasiliy-kandinskiy/siniy-1922',\n '/ru/vasiliy-kandinskiy/nabrosok-rospisi-steny-dlya-vystavki-obshchestva-nezavisimykh-khudozhnikov-1922',\n '/ru/vasiliy-kandinskiy/malenkie-miry-1922',\n '/ru/vasiliy-kandinskiy/malenkie-miry-ii-1922',\n '/ru/vasiliy-kandinskiy/malenkie-miry-iii-1922',\n '/ru/vasiliy-kandinskiy/malenkie-miry-iv-1922',\n '/ru/vasiliy-kandinskiy/malenkie-miry-vi-1922',\n '/ru/vasiliy-kandinskiy/malenkie-miry-vii-1922',\n '/ru/vasiliy-kandinskiy/malenkie-miry-x-1922',\n '/ru/vasiliy-kandinskiy/malenkie-miry-xi-1922',\n '/ru/vasiliy-kandinskiy/chernyy-i-fioletovyy-1923',\n '/ru/vasiliy-kandinskiy/kompozitsiya-viii-1923',\n '/ru/vasiliy-kandinskiy/zelenaya-kompozitsiya-1923',\n '/ru/vasiliy-kandinskiy/na-belom-ii-1923',\n '/ru/vasiliy-kandinskiy/oranzhevyy-1923',\n '/ru/vasiliy-kandinskiy/poperechnaya-liniya-1923',\n '/ru/vasiliy-kandinskiy/chernaya-svyaz-1924',\n '/ru/vasiliy-kandinskiy/kontrastnye-zvuki-1924',\n '/ru/vasiliy-kandinskiy/v-sinem-1925',\n '/ru/vasiliy-kandinskiy/not_detected_189364',\n '/ru/vasiliy-kandinskiy/malenkiy-son-v-krasnom-1925',\n '/ru/vasiliy-kandinskiy/zhelto-krasno-siniy-1925',\n '/ru/vasiliy-kandinskiy/red-sun-and-ship',\n '/ru/vasiliy-kandinskiy/aktsent-na-rozovyy-1926',\n '/ru/vasiliy-kandinskiy/razvitie-1926',\n '/ru/vasiliy-kandinskiy/neskolko-krugov-1926',\n '/ru/vasiliy-kandinskiy/merry-structure-1926',\n '/ru/vasiliy-kandinskiy/temnaya-svezhest-1927',\n '/ru/vasiliy-kandinskiy/cherno-krasnyy-1928',\n '/ru/vasiliy-kandinskiy/peresechenie-1928',\n '/ru/vasiliy-kandinskiy/nezhnyy-protsess-1928',\n '/ru/vasiliy-kandinskiy/not_detected_189367',\n '/ru/vasiliy-kandinskiy/na-tochkakh-1928',\n '/ru/vasiliy-kandinskiy/kartina-xvi-bolshie-vorota-kieva-1928',\n '/ru/vasiliy-kandinskiy/vniz-1929',\n '/ru/vasiliy-kandinskiy/vosem-raz-1929',\n '/ru/vasiliy-kandinskiy/etazhnost-1929',\n '/ru/vasiliy-kandinskiy/vverkh-1929',\n '/ru/vasiliy-kandinskiy/kapriznyy-1930',\n '/ru/vasiliy-kandinskiy/zelenaya-pustota-1930',\n '/ru/vasiliy-kandinskiy/tri-pryamougolnika-1930',\n '/ru/vasiliy-kandinskiy/zamedlennoe-vrashchenie-1931',\n '/ru/vasiliy-kandinskiy/khrupkiy-1931',\n '/ru/vasiliy-kandinskiy/reshayushchiy-rozovyy-1932',\n '/ru/vasiliy-kandinskiy/kompensatsiya-rozovogo-1933',\n '/ru/vasiliy-kandinskiy/mrachnoe-polozhenie-1933',\n '/ru/vasiliy-kandinskiy/myagkaya-zhestkost-1933',\n '/ru/vasiliy-kandinskiy/myagkiy-aktsent-1934',\n '/ru/vasiliy-kandinskiy/vstrecha-poverkhnostey-1934',\n '/ru/vasiliy-kandinskiy/korichnevyy-s-dopolneniem-1935',\n '/ru/vasiliy-kandinskiy/gravitatsiya-1935',\n '/ru/vasiliy-kandinskiy/oranzhevo-fioletovyy-1935',\n '/ru/vasiliy-kandinskiy/succession-1935',\n '/ru/vasiliy-kandinskiy/movement-i-1935',\n '/ru/vasiliy-kandinskiy/kompozitsiya-ix-1936',\n '/ru/vasiliy-kandinskiy/dominiruyushchaya-duga-1936',\n '/ru/vasiliy-kandinskiy/belaya-liniya-1936',\n '/ru/vasiliy-kandinskiy/thirty-1937',\n '/ru/vasiliy-kandinskiy/grouping-1937',\n '/ru/vasiliy-kandinskiy/tsvetnoy-ansambl-1938',\n '/ru/vasiliy-kandinskiy/prostoy-kompleks-1939',\n '/ru/vasiliy-kandinskiy/kompozitsiya-x-1939',\n '/ru/vasiliy-kandinskiy/vokrug-kruga-1940',\n '/ru/vasiliy-kandinskiy/sinee-nebo-1940',\n '/ru/vasiliy-kandinskiy/various-parts-1940',\n '/ru/vasiliy-kandinskiy/bez-nazvaniya-1941',\n '/ru/vasiliy-kandinskiy/bez-nazvaniya-1941-0',\n '/ru/vasiliy-kandinskiy/plavayushchaya-figura-1942',\n '/ru/vasiliy-kandinskiy/na-otdykhe-1942',\n '/ru/vasiliy-kandinskiy/nepodvizhnye-tochki-1942',\n '/ru/vasiliy-kandinskiy/intimnoe-soobshchenie-1942',\n '/ru/vasiliy-kandinskiy/reciprocal-accords-1942',\n '/ru/vasiliy-kandinskiy/konglomerat-1943',\n '/ru/vasiliy-kandinskiy/sumerki-1943',\n '/ru/vasiliy-kandinskiy/belaya-figura-1943',\n '/ru/vasiliy-kandinskiy/kompozitsiya-1944',\n '/ru/vasiliy-kandinskiy/poslednyaya-akvarel-1944',\n '/ru/vasiliy-kandinskiy/umerennyy-elan-1944',\n '/ru/vasiliy-kandinskiy/bez-nazvaniya-1944',\n '/ru/vasiliy-kandinskiy/apple-tree']"
      ]
     },
     "execution_count": 65,
     "metadata": {},
     "output_type": "execute_result"
    }
   ],
   "source": [
    "pic_links"
   ]
  },
  {
   "cell_type": "code",
   "execution_count": null,
   "metadata": {},
   "outputs": [],
   "source": [
    "#pic_url = 'https://www.wikiart.org' + pic_links[0]\n",
    "pic_url = 'https://www.wikiart.org/ru/kazimir-malevich/chyornyy-kvadrat-1915'\n",
    "driver = webdriver.Chrome()\n",
    "driver.get(pic_url)\n",
    "#driver.execute_script(\"window.scrollTo(0, document.body.scrollHeight);\")\n",
    "# content_page = driver.page_source\n",
    "# soup = BeautifulSoup(content_page, \"html5lib\")\n",
    "# #driver.close()\n",
    "# sleep(3)\n",
    "# del(driver)\n",
    "if 'абстракция</span>' in driver.page_source:\n",
    "    try:\n",
    "        print('tut')\n",
    "        driver.find_element_by_class_name('all-sizes').click()\n",
    "        content_page = driver.page_source\n",
    "        soup = BeautifulSoup(content_page, \"html5lib\")\n",
    "        imgs_blocks = soup.find_all('div', {'class': 'thumbnail-item ng-scope'})\n",
    "        # for block in imgs_blocks:\n",
    "        #     if 'оригинал' in block.text:\n",
    "        #         src = block.find('a')['href']\n",
    "        #         \n",
    "        #         urllib.request.urlretrieve(src, \"test2.jpg\")\n",
    "        #         break\n",
    "        src = imgs_blocks[-1].find('a')['href']\n",
    "        print(src)\n",
    "        if '.png' in src:\n",
    "            urllib.request.urlretrieve(src, \"test.png\")\n",
    "        elif '.jpg' in src:\n",
    "            urllib.request.urlretrieve(src, \"test.jpg\")\n",
    "        else:\n",
    "            urllib.request.urlretrieve(src, \"test.jpg\")\n",
    "        driver.close()\n",
    "    except:\n",
    "        print('tam')\n",
    "        src = driver.find_element_by_class_name('ms-zoom-cursor').get_attribute('src')\n",
    "        print(src)\n",
    "        if '.png' in src:\n",
    "            urllib.request.urlretrieve(src, \"test.png\")\n",
    "        elif '.jpg' in src:\n",
    "            urllib.request.urlretrieve(src, \"test.jpg\")\n",
    "        else:\n",
    "            urllib.request.urlretrieve(src, \"test.jpg\")\n",
    "        driver.close()\n",
    "    sleep(4)\n"
   ]
  },
  {
   "cell_type": "code",
   "execution_count": 50,
   "metadata": {},
   "outputs": [],
   "source": [
    "with open('raw_pic.html', 'w') as f:\n",
    "    f.write(cont)"
   ]
  },
  {
   "cell_type": "code",
   "execution_count": null,
   "metadata": {},
   "outputs": [],
   "source": []
  }
 ],
 "metadata": {
  "kernelspec": {
   "display_name": "Python 2",
   "language": "python",
   "name": "python2"
  },
  "language_info": {
   "codemirror_mode": {
    "name": "ipython",
    "version": 2
   },
   "file_extension": ".py",
   "mimetype": "text/x-python",
   "name": "python",
   "nbconvert_exporter": "python",
   "pygments_lexer": "ipython2",
   "version": "2.7.6"
  }
 },
 "nbformat": 4,
 "nbformat_minor": 0
}
